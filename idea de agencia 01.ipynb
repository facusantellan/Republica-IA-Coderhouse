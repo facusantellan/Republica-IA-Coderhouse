{
 "cells": [
  {
   "cell_type": "code",
   "execution_count": 1,
   "id": "1188f933-d89e-49f7-adc0-39e94b997572",
   "metadata": {},
   "outputs": [],
   "source": [
    "import openai"
   ]
  },
  {
   "cell_type": "code",
   "execution_count": 2,
   "id": "a88ae823-948b-46ca-9948-bf75be3ce8d3",
   "metadata": {},
   "outputs": [],
   "source": [
    
   ]
  },
  {
   "cell_type": "code",
   "execution_count": 4,
   
   "metadata": {},
   "outputs": [],
   "source": [
    "context = \"Eres el CEO de una agencia de publicidad española con filiales alrededor del mundo\"\n",
    "\n",
    "prompt = \"Estas armando una nueva agencia enfocada en influencers creados por inteligencia artificial. Se va a llamar Republica IA y debes comenzar a plantear el objetivo de la agencia\""
   ]
  },
  {
   "cell_type": "code",
   "execution_count": 5,
   "id": "96fbf33f-4bdb-456f-8870-1f2a0e901f4e",
   "metadata": {},
   "outputs": [
    {
     "name": "stdout",
     "output_type": "stream",
     "text": [
      "assistant: El objetivo de Republica IA es revolucionar el mundo de la publicidad a través de la creación y activación de influencers creados por inteligencia artificial. Nuestra misión es conectar marcas con audiencias de manera auténtica y efectiva, aprovechando el poder de la tecnología para llegar a nuevos niveles de creatividad y personalización en las estrategias de marketing. Queremos ser pioneros en la innovación dentro de la industria\n"
     ]
    }
   ],
   "source": [
    "conversation = [\n",
    "    {\"role\": \"system\", \"content\": context },\n",
    "    {\"role\": \"user\", \"content\": prompt },\n",
    "]\n",
    "\n",
    "response = openai.ChatCompletion.create(\n",
    "    model='gpt-3.5-turbo',\n",
    "    messages=conversation,\n",
    "    max_tokens=100\n",
    ")\n",
    "\n",
    "message = response.choices[0]['message']\n",
    "print(\"{}: {}\".format(message['role'], message['content']))"
   ]
  },
  {
   "cell_type": "code",
   "execution_count": null,
   "id": "1039a7da-2437-40c9-bcd1-2f32fc9b0164",
   "metadata": {},
   "outputs": [],
   "source": []
  }
 ],
 "metadata": {
  "kernelspec": {
   "display_name": "Python 3 (ipykernel)",
   "language": "python",
   "name": "python3"
  },
  "language_info": {
   "codemirror_mode": {
    "name": "ipython",
    "version": 3
   },
   "file_extension": ".py",
   "mimetype": "text/x-python",
   "name": "python",
   "nbconvert_exporter": "python",
   "pygments_lexer": "ipython3",
   "version": "3.12.2"
  }
 },
 "nbformat": 4,
 "nbformat_minor": 5
}
